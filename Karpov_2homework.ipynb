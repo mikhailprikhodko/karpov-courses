{
 "cells": [
  {
   "cell_type": "markdown",
   "id": "333676f6-b5ac-411f-ac64-5a82db095315",
   "metadata": {},
   "source": [
    "# 2 Домашнее задание от Karpov Courses "
   ]
  },
  {
   "cell_type": "markdown",
   "id": "559121a5-0b91-4741-b45f-23f7ec1887a0",
   "metadata": {},
   "source": [
    "## 1 Задание \n",
    "#### Теперь поработаем с данными о поездках на такси в Нью-Йорке, где также имеется информация о погодных условиях и выходных днях.  "
   ]
  },
  {
   "cell_type": "raw",
   "id": "de22ec0f-37a6-41bf-9618-0b72510d79f7",
   "metadata": {},
   "source": [
    "\n",
    "•\tpickup_dt – период с точностью до часа\n",
    "•\tpickup_month – месяц\n",
    "•\tborough – район Нью-Йорка, из которого был сделан заказ (5 районов + аэропорт)\n",
    "•\tpickups – число поездок за период (час)\n",
    "•\thday – является ли день праздничным/выходным; Y - да,  N - нет\n",
    "•\tspd – скорость ветра в милях в час\n",
    "•\tvsb – видимость\n",
    "•\ttemp – температура в градусах Фаренгейта\n",
    "•\tdewp – точка росы по Фаренгейту\n",
    "•\tslp – давление\n",
    "•\tpcp_01 – количество осадков за час\n",
    "•\tpcp_06 – количество осадков за 6 часов\n",
    "•\tpcp_24 – количество осадков за 24 часа"
   ]
  },
  {
   "cell_type": "markdown",
   "id": "92bee1cb-79ac-4371-b7c3-11c5cc31ec9e",
   "metadata": {},
   "source": [
    "#### Но перед тем, как приступать к работе, давайте загрузим данные. \n",
    "\n",
    "На LMS путь к данным лежит в переменной path_to_file (условно, path_to_file = \"/some/path/to/file.csv\"). \n",
    "\n",
    "Импортируйте библиотеку pandas, а затем загрузите данные по вышеупомянутой ссылке. \n",
    "\n",
    "Результат сохраните в переменную taxi.\r\n",
    "\r\n",
    "Проверьте, сколько всего строк и столбцов имеется в датете.\r\n",
    "\n"
   ]
  },
  {
   "cell_type": "code",
   "execution_count": 27,
   "id": "ead2c171-e553-44fb-ab42-ba11eab2baec",
   "metadata": {},
   "outputs": [],
   "source": [
    "import pandas as pd"
   ]
  },
  {
   "cell_type": "code",
   "execution_count": 28,
   "id": "a976520d-2766-4150-bc10-abcf1c3500a4",
   "metadata": {},
   "outputs": [],
   "source": [
    "taxi = pd.read_csv(\"2_taxi_nyc.csv\")"
   ]
  },
  {
   "cell_type": "code",
   "execution_count": 29,
   "id": "c815fd56-03c9-444e-8190-efde26fbf298",
   "metadata": {},
   "outputs": [
    {
     "name": "stdout",
     "output_type": "stream",
     "text": [
      "(29101, 14)\n"
     ]
    }
   ],
   "source": [
    "print(taxi.shape)"
   ]
  },
  {
   "cell_type": "markdown",
   "id": "0fae0571-a87e-4c71-ad2b-7151e8e62f35",
   "metadata": {},
   "source": [
    "#### Давайте посмотрим на типы колонок. \n",
    "\n",
    "Все ли из них считались правильно? \n",
    "В качестве ответа выберите тип, преобладающий в датасете."
   ]
  },
  {
   "cell_type": "code",
   "execution_count": 30,
   "id": "561a2cd9-edc3-453b-8fc7-c866ea7fe95a",
   "metadata": {},
   "outputs": [
    {
     "name": "stdout",
     "output_type": "stream",
     "text": [
      "pickup_dt        object\n",
      "pickup_month     object\n",
      "borough          object\n",
      "pickups           int64\n",
      "hday             object\n",
      "spd             float64\n",
      "vsb             float64\n",
      "temp            float64\n",
      "dewp            float64\n",
      "slp             float64\n",
      "pcp 01          float64\n",
      "pcp 06          float64\n",
      "pcp 24          float64\n",
      "sd              float64\n",
      "dtype: object\n"
     ]
    }
   ],
   "source": [
    "print(taxi.dtypes)"
   ]
  },
  {
   "cell_type": "code",
   "execution_count": 31,
   "id": "99875105-c703-4332-8a5b-b9c50f32cbb8",
   "metadata": {},
   "outputs": [
    {
     "name": "stdout",
     "output_type": "stream",
     "text": [
      "float64    9\n",
      "object     4\n",
      "int64      1\n",
      "Name: count, dtype: int64\n"
     ]
    }
   ],
   "source": [
    "type_counts = taxi.dtypes.value_counts()\n",
    "print(type_counts)"
   ]
  },
  {
   "cell_type": "markdown",
   "id": "1b15e367-b2c2-4065-9a05-160a707302db",
   "metadata": {},
   "source": [
    "## 2 Задание \n",
    "#### В названиях столбцов pcp 01, pcp 06, pcp 24 встречается пробел. \n",
    "Это не очень удобно, если в дальнейшем вы планируете обращаться к колонкам через точку, без использования кавычек и скобочек. \n",
    "Замените пробел в названиях на знак нижнего подчеркивания. \n",
    "Данные сохранены в переменную taxi. Данные должны быть изменены в этом же датафрейме\n"
   ]
  },
  {
   "cell_type": "code",
   "execution_count": 32,
   "id": "c0a6cb59-3387-4fa7-a665-554f85c237cd",
   "metadata": {},
   "outputs": [
    {
     "name": "stdout",
     "output_type": "stream",
     "text": [
      "Index(['pickup_dt', 'pickup_month', 'borough', 'pickups', 'hday', 'spd', 'vsb',\n",
      "       'temp', 'dewp', 'slp', 'pcp_01', 'pcp_06', 'pcp_24', 'sd'],\n",
      "      dtype='object')\n"
     ]
    }
   ],
   "source": [
    "\n",
    "taxi = taxi.rename(columns={\n",
    "    'pcp 01': 'pcp_01',\n",
    "    'pcp 06': 'pcp_06', \n",
    "    'pcp 24': 'pcp_24'\n",
    "})\n",
    "\n",
    "\n",
    "print(taxi.columns)"
   ]
  },
  {
   "cell_type": "markdown",
   "id": "f20f716a-8b71-464c-8dcc-acb5085e8bf2",
   "metadata": {},
   "source": [
    "## 3 Задание \n",
    "#### Вас попросили узнать, сколько записей (строк) в датафрейме относятся к району Манхэттен (Manhattan). \n",
    "Получить ответ на данный вопрос можно было бы, например, с помощью следующей команды:"
   ]
  },
  {
   "cell_type": "raw",
   "id": "36835b58-fe16-49fa-813f-0f42d5a78d1d",
   "metadata": {},
   "source": [
    "taxi.query(\"borough == 'Manhattan'\").shape[0]"
   ]
  },
  {
   "cell_type": "markdown",
   "id": "4736a1e7-778b-448f-a84e-88cd65a172fe",
   "metadata": {},
   "source": [
    "А если мы хотим посмотреть, сколько раз встречается каждый из районов? Неужели придется использовать подобную конструкцию для каждого уровня переменной?\n",
    "\n",
    "Сколько раз в данных встречается район Бруклин (Brooklyn)?"
   ]
  },
  {
   "cell_type": "code",
   "execution_count": 33,
   "id": "45e3aa17-6e60-46e4-baf1-226ed00e3f93",
   "metadata": {},
   "outputs": [
    {
     "data": {
      "text/plain": [
       "borough\n",
       "Bronx            4343\n",
       "Brooklyn         4343\n",
       "EWR              4343\n",
       "Manhattan        4343\n",
       "Queens           4343\n",
       "Staten Island    4343\n",
       "Name: count, dtype: int64"
      ]
     },
     "execution_count": 33,
     "metadata": {},
     "output_type": "execute_result"
    }
   ],
   "source": [
    "taxi.borough.value_counts()"
   ]
  },
  {
   "cell_type": "markdown",
   "id": "9607899e-16e3-459b-b9a0-6352634b3bb1",
   "metadata": {},
   "source": [
    "## 4 Задание \n",
    "#### Следующая задача: выяснить, из какого района было совершено наибольшее количество поездок за весь период.\n",
    "\n",
    "Для начала, посчитайте общее количество поездок (pickups), без группировки."
   ]
  },
  {
   "cell_type": "code",
   "execution_count": 34,
   "id": "bbb0c7cc-a191-4941-bcc6-d2eb29365e26",
   "metadata": {},
   "outputs": [
    {
     "name": "stdout",
     "output_type": "stream",
     "text": [
      "14265773\n"
     ]
    }
   ],
   "source": [
    "total_pickups = taxi.pickups.sum()\n",
    "\n",
    "print(total_pickups)"
   ]
  },
  {
   "cell_type": "markdown",
   "id": "8b0a2cb4-9bd4-406b-8bef-57fa7699b38e",
   "metadata": {},
   "source": [
    "А теперь сгруппируйте данные по району (borough) и укажите, из какого пункта было совершено больше всего поездок."
   ]
  },
  {
   "cell_type": "code",
   "execution_count": 35,
   "id": "33463efa-4bda-4a51-a364-c0df6d6ef384",
   "metadata": {},
   "outputs": [
    {
     "name": "stdout",
     "output_type": "stream",
     "text": [
      "Больше всего поездок было из Manhattan: 10367841 поездок\n"
     ]
    }
   ],
   "source": [
    "borough_totals = taxi.groupby('borough')['pickups'].sum()\n",
    "max_borough = borough_totals.idxmax()\n",
    "max_pickups = borough_totals.max()\n",
    "\n",
    "print(f\"Больше всего поездок было из {max_borough}: {max_pickups} поездок\")"
   ]
  },
  {
   "cell_type": "markdown",
   "id": "3e58be2e-8cf0-4ac7-9874-9bb90689273e",
   "metadata": {},
   "source": [
    "## ⭐️Задание со звёздочкой!⭐️"
   ]
  },
  {
   "cell_type": "raw",
   "id": "ad6be62b-1026-4f89-8e7b-6fb48ec07ec7",
   "metadata": {},
   "source": [
    "•\tidxmin – индекс минимального значения\n",
    "•\tidxmax – индекс максимального значения"
   ]
  },
  {
   "cell_type": "markdown",
   "id": "5491d280-b04e-46c4-8db0-033da07ae969",
   "metadata": {},
   "source": [
    "Сохраните название района с наименьшим числом поездок в переменную min_pickups, применив подходящий метод.\r\n",
    "Исходные данные сохранены в переменную taxi\r\n"
   ]
  },
  {
   "cell_type": "code",
   "execution_count": 36,
   "id": "f2a4f63b-44fb-4d11-93e0-470cc2245650",
   "metadata": {},
   "outputs": [
    {
     "name": "stdout",
     "output_type": "stream",
     "text": [
      "Район с наименьшим числом поездок: EWR\n"
     ]
    }
   ],
   "source": [
    "min_pickups = taxi.groupby('borough')['pickups'].sum().idxmin()\n",
    "\n",
    "print(f\"Район с наименьшим числом поездок: {min_pickups}\")"
   ]
  },
  {
   "cell_type": "markdown",
   "id": "9c7a47e9-c0ea-412f-a3af-ca02f47f9591",
   "metadata": {},
   "source": [
    "#### Продолжим изучение данных и посмотрим на число поездок в выходные дни. \n",
    "\n",
    "Сгруппируйте данные по двум признакам: району города и является ли день выходным (колонки borough и hday). Сравните среднее число поездок, и выберите районы, из которых по праздникам в среднем поступает больше заказов, чем в обычные дни. "
   ]
  },
  {
   "cell_type": "code",
   "execution_count": 37,
   "id": "14f3894c-8ae7-4534-b1ca-76256f5b0767",
   "metadata": {},
   "outputs": [
    {
     "name": "stdout",
     "output_type": "stream",
     "text": [
      "hday                     N            Y\n",
      "borough                                \n",
      "Bronx            50.771073    48.065868\n",
      "Brooklyn        534.727969   527.011976\n",
      "EWR               0.023467     0.041916\n",
      "Manhattan      2401.302921  2035.928144\n",
      "Queens          308.899904   320.730539\n",
      "Staten Island     1.606082     1.497006\n",
      "Районы, где в выходные в среднем больше заказов: ['EWR', 'Queens']\n"
     ]
    }
   ],
   "source": [
    "# Создаем сводную таблицу\n",
    "pivot_table = taxi.pivot_table(values='pickups', index='borough', columns='hday', aggfunc='mean')\n",
    "print(pivot_table)\n",
    "\n",
    "# Находим районы, где среднее в выходные больше\n",
    "more_on_weekends = pivot_table[pivot_table['Y'] > pivot_table['N']].index.tolist()\n",
    "print(\"Районы, где в выходные в среднем больше заказов:\", more_on_weekends)"
   ]
  },
  {
   "cell_type": "markdown",
   "id": "afea9af0-d24c-4f85-85bb-65159d2050f4",
   "metadata": {},
   "source": [
    "#### Для каждого района посчитайте число поездок по месяцам. \n",
    "\n",
    "Отсортируйте полученные значения по убыванию и сохраните результирующий датафрейм в pickups_by_mon_bor.\r\n",
    "Обратите внимание, что итоговый датасет должен состоять из 3-х колонок - pickup_month, borough, pickups.\r\n",
    "Данные сохранены в переменную taxi.\r\n"
   ]
  },
  {
   "cell_type": "code",
   "execution_count": 21,
   "id": "420a1b89-ee9a-4f88-bf40-61cca5ae7750",
   "metadata": {},
   "outputs": [
    {
     "name": "stdout",
     "output_type": "stream",
     "text": [
      "   pickup_month    borough  pickups\n",
      "21          Jun  Manhattan  1995388\n",
      "33          May  Manhattan  1888800\n",
      "9           Feb  Manhattan  1718571\n",
      "27          Mar  Manhattan  1661261\n",
      "3           Apr  Manhattan  1648278\n"
     ]
    }
   ],
   "source": [
    "# Группируем по месяцу и району, считаем сумму поездок\n",
    "pickups_by_mon_bor = taxi.groupby(['pickup_month', 'borough'])['pickups'].sum().reset_index()\n",
    "\n",
    "# Сортируем по убыванию количества поездок\n",
    "pickups_by_mon_bor = pickups_by_mon_bor.sort_values('pickups', ascending=False)\n",
    "\n",
    "# Оставляем только нужные колонки\n",
    "pickups_by_mon_bor = pickups_by_mon_bor[['pickup_month', 'borough', 'pickups']]\n",
    "\n",
    "# Проверяем результат\n",
    "print(pickups_by_mon_bor.head())"
   ]
  },
  {
   "cell_type": "markdown",
   "id": "b3cbcfc4-003e-4458-86a3-08cdfe80a08a",
   "metadata": {},
   "source": [
    "## 💀 Сложное задание! 💀\n",
    "\n",
    "Теперь задача посложнее! Попрактикуемся в написании собственных функций и их применении к датафрейму. Поскольку данные о поездках в Нью-Йорке, температура представлена в градусах Фаренгейта. \r\n",
    "Напишите функцию temp_to_celcius, которая получает на вход колонку с температурой в °F, и возвращает значения, переведенные в градусы Цельсия.\r\n"
   ]
  },
  {
   "cell_type": "raw",
   "id": "ac4cb6f1-a440-429b-9aa7-a072b1b5d7a1",
   "metadata": {},
   "source": [
    "Формула:\n",
    " Celsius = \\frac{(Fahrenheit-32) \\cdot 5.0}{9.0}Celsius=9.0(Fahrenheit−32)⋅5.0\n"
   ]
  },
  {
   "cell_type": "raw",
   "id": "f8df53b7-29a4-4229-9ecf-feae899be98f",
   "metadata": {
    "scrolled": true
   },
   "source": [
    "Пример работы функции:\n",
    "> taxi['temp'][:5]\n",
    "\n",
    "0    30.0\n",
    "1    30.0\n",
    "2    30.0\n",
    "3    30.0\n",
    "4    30.0\n",
    "> taxi['temp_C'] = temp_to_celcius(taxi['temp'])\n",
    "> taxi['temp_C'][:5]\n",
    "\n",
    "0   -1.111111\n",
    "1   -1.111111\n",
    "2   -1.111111\n",
    "3   -1.111111\n",
    "4   -1.111111\n"
   ]
  },
  {
   "cell_type": "markdown",
   "id": "4b2e3916-ebea-492c-897a-9e328a31fcab",
   "metadata": {},
   "source": [
    "NB! В окошке ниже надо написать только саму функцию. Так как урок посвящён pandas, то и всё содержимое функции должно быть выполнено средствами этой библиотеки - убедитесь, что на выходе она даёт pandas Series."
   ]
  },
  {
   "cell_type": "code",
   "execution_count": 24,
   "id": "1d5af334-b213-4123-b31c-bcd58b4f866a",
   "metadata": {},
   "outputs": [],
   "source": [
    "def temp_to_celcius(temp_f):\n",
    "    return (temp_f - 32) * 5.0 / 9.0"
   ]
  }
 ],
 "metadata": {
  "kernelspec": {
   "display_name": "Python 3 (ipykernel)",
   "language": "python",
   "name": "python3"
  },
  "language_info": {
   "codemirror_mode": {
    "name": "ipython",
    "version": 3
   },
   "file_extension": ".py",
   "mimetype": "text/x-python",
   "name": "python",
   "nbconvert_exporter": "python",
   "pygments_lexer": "ipython3",
   "version": "3.11.7"
  }
 },
 "nbformat": 4,
 "nbformat_minor": 5
}
