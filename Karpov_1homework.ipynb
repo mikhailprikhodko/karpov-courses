{
 "cells": [
  {
   "cell_type": "markdown",
   "id": "41859601-2cbd-4bcc-a765-9215d198313b",
   "metadata": {},
   "source": [
    "# 1 Домашнее задание от Karpov Courses "
   ]
  },
  {
   "cell_type": "markdown",
   "id": "4440961f-b3ac-4d3d-ae5b-d649727a9b93",
   "metadata": {},
   "source": [
    "## 1 Задание \n",
    "#### Начнём с простого: сохраните в переменную age произвольный возраст, выраженный целым числом, а в переменную name – какое-нибудь имя в виде строки."
   ]
  },
  {
   "cell_type": "code",
   "execution_count": 14,
   "id": "77238503-3d9f-4f48-862a-21bd16822fe4",
   "metadata": {},
   "outputs": [
    {
     "name": "stdout",
     "output_type": "stream",
     "text": [
      "22 Mikhail\n"
     ]
    }
   ],
   "source": [
    "age = 22\n",
    "name = \"Mikhail\"\n",
    "print(age, name)"
   ]
  },
  {
   "cell_type": "markdown",
   "id": "484241a2-f126-4898-9fd2-8439e6f337af",
   "metadata": {},
   "source": [
    "## 2  Задание \n",
    "#### Создайте список user_info, содержащий 4 элемента в следующем порядке: \n",
    "\n",
    "##### 2 строки (имя и фамилия пользователя), \n",
    "\n",
    "##### 1 дробное число (зарплата), \n",
    "\n",
    "##### 1 целое число (стаж)"
   ]
  },
  {
   "cell_type": "code",
   "execution_count": 24,
   "id": "6331adb9-1b30-48b2-8747-d1227f752c8d",
   "metadata": {},
   "outputs": [],
   "source": [
    "user_info = [\"Mikhail\", \"Prikhodko\", 80.500, 2]"
   ]
  },
  {
   "cell_type": "code",
   "execution_count": 25,
   "id": "225e7d03-648e-405f-b066-1f866e4b38b9",
   "metadata": {},
   "outputs": [
    {
     "data": {
      "text/plain": [
       "['Mikhail', 'Prikhodko', 80.5, 2]"
      ]
     },
     "execution_count": 25,
     "metadata": {},
     "output_type": "execute_result"
    }
   ],
   "source": [
    "user_info"
   ]
  },
  {
   "cell_type": "markdown",
   "id": "4f9f2e59-01b4-4575-8b84-9bccf395d3d5",
   "metadata": {},
   "source": [
    "## 3 Задание \n",
    "#### Поместите в переменную first первый (т.е. нулевой) элемент из списка salaries."
   ]
  },
  {
   "cell_type": "code",
   "execution_count": 63,
   "id": "334aaf58-d659-4bf5-b64a-20f97cbfbfc8",
   "metadata": {},
   "outputs": [],
   "source": [
    "salaries = [42, 100, 70, 80]"
   ]
  },
  {
   "cell_type": "code",
   "execution_count": 64,
   "id": "33f548fc-cf04-47f8-9d3d-d2c4c78b7857",
   "metadata": {},
   "outputs": [
    {
     "name": "stdout",
     "output_type": "stream",
     "text": [
      "42\n"
     ]
    }
   ],
   "source": [
    "first = salaries[0]\n",
    "print(first)"
   ]
  },
  {
   "cell_type": "markdown",
   "id": "af1ad72e-103d-42ba-9bb0-c682d3648fb7",
   "metadata": {},
   "source": [
    "## 4 Задание \n",
    "#### Добавьте в список users элементы 'Voronov' и 42."
   ]
  },
  {
   "cell_type": "code",
   "execution_count": 43,
   "id": "1b869030-163e-4d20-8a87-d3e7a604edff",
   "metadata": {},
   "outputs": [
    {
     "data": {
      "text/plain": [
       "['Voronov', 42]"
      ]
     },
     "execution_count": 43,
     "metadata": {},
     "output_type": "execute_result"
    }
   ],
   "source": [
    "users = []\n",
    "users.append(\"Voronov\")\n",
    "users.append(42)\n",
    "users"
   ]
  },
  {
   "cell_type": "markdown",
   "id": "6e97b593-8574-418a-8640-2c86c5d20531",
   "metadata": {},
   "source": [
    "## 5 Задание \n",
    "#### В переменной user_ages содержится список возрастов клиентов. Напишите цикл, выводящий на печать элементы больше 18."
   ]
  },
  {
   "cell_type": "code",
   "execution_count": 61,
   "id": "05a9e968-8bc8-409d-aa02-6ec038fad7d4",
   "metadata": {},
   "outputs": [],
   "source": [
    "user_ages = [10, 18, 21, 35, 42, 27, 12, 16]"
   ]
  },
  {
   "cell_type": "code",
   "execution_count": 62,
   "id": "8ea7d981-d98e-48d8-9ae7-95dee9b189bb",
   "metadata": {},
   "outputs": [
    {
     "name": "stdout",
     "output_type": "stream",
     "text": [
      "21\n",
      "35\n",
      "42\n",
      "27\n"
     ]
    }
   ],
   "source": [
    "for age in user_ages: \n",
    "    if age > 18:\n",
    "     print(age)\n",
    "    "
   ]
  },
  {
   "cell_type": "markdown",
   "id": "c571ec19-36d1-4091-bc0c-394a64762f34",
   "metadata": {},
   "source": [
    "## 6 Задание \n",
    "#### Напишите программу, проверяющую стаж работы сотрудника. В переменной worker уже содержится список, содержащий значения как во 2-м задании (имя, фамилия, зарплата, стаж). Поместите в переменную status следующую строку:\n",
    "##### user_name user_family is position , где user_name и user_family — имя и фамилия сотрудника, а position — одно из следующих значений:\n",
    "\n",
    "##### 'junior' — стаж меньше 2 лет\n",
    "\n",
    "##### 'middle' — стаж больше либо равен 2 лет и меньше или равен 5\n",
    "\n",
    "##### 'senior' — стаж больше 5 лет \n",
    "\n",
    "###### \n",
    "Hint: печатать результат не нужно, просто запишите его в переменную status.\r\n",
    "\n"
   ]
  },
  {
   "cell_type": "code",
   "execution_count": 29,
   "id": "3ed4652f-189e-4ba3-aadd-bb275d902094",
   "metadata": {},
   "outputs": [
    {
     "data": {
      "text/plain": [
       "['Mikhail', 'Prikhodko', 80.5, 2]"
      ]
     },
     "execution_count": 29,
     "metadata": {},
     "output_type": "execute_result"
    }
   ],
   "source": [
    "user_info"
   ]
  },
  {
   "cell_type": "code",
   "execution_count": 30,
   "id": "850d25e8-0c67-435d-bed5-650abfe827ec",
   "metadata": {},
   "outputs": [],
   "source": [
    "worker = user_info"
   ]
  },
  {
   "cell_type": "code",
   "execution_count": 31,
   "id": "faef13c1-a0fe-4179-9577-c46fd76de39e",
   "metadata": {},
   "outputs": [],
   "source": [
    "user_name = worker[0]\n",
    "user_family = worker[1]\n",
    "salary = worker[2]\n",
    "experience = worker[3]"
   ]
  },
  {
   "cell_type": "code",
   "execution_count": 32,
   "id": "9b7e566b-c9fe-4bfa-a8b4-128777e9dccd",
   "metadata": {},
   "outputs": [],
   "source": [
    "if experience < 2:\n",
    "    position = \"junior\"\n",
    "elif 2<= experience <= 5:\n",
    "    position = \"middle\"\n",
    "else:\n",
    "    position = \"senior\"\n",
    "    \n",
    "status = f\"{worker[0]} {worker[1]} is {position}\""
   ]
  },
  {
   "cell_type": "code",
   "execution_count": 33,
   "id": "ef615e30-75e0-40f9-a40b-71bde3fa56ab",
   "metadata": {},
   "outputs": [
    {
     "data": {
      "text/plain": [
       "'Mikhail Prikhodko is middle'"
      ]
     },
     "execution_count": 33,
     "metadata": {},
     "output_type": "execute_result"
    }
   ],
   "source": [
    "status"
   ]
  },
  {
   "cell_type": "markdown",
   "id": "fb87a883-aa0f-4ac9-8107-8b34d28a1c63",
   "metadata": {},
   "source": [
    "## 7 Задание\n",
    "#### В списке values содержатся числовые значения. Создайте список tens и добавьте в него все числа из values, которые делятся на 10 нацело."
   ]
  },
  {
   "cell_type": "code",
   "execution_count": 13,
   "id": "49e12394-8a23-4183-b5e2-afd7efa4861a",
   "metadata": {},
   "outputs": [],
   "source": [
    "values = [12, 134, 10, 47, 100, 20, 50, 160, 210]"
   ]
  },
  {
   "cell_type": "code",
   "execution_count": 35,
   "id": "9f56f28d-c064-4e98-92a0-43684bdf4637",
   "metadata": {},
   "outputs": [
    {
     "name": "stdout",
     "output_type": "stream",
     "text": [
      "[10, 100, 20, 50, 160, 210]\n"
     ]
    }
   ],
   "source": [
    "tens = []\n",
    "for value in values:\n",
    "    if value % 10 == 0:\n",
    "        tens.append(value)\n",
    "\n",
    "print(tens)"
   ]
  },
  {
   "cell_type": "markdown",
   "id": "6c53d1c8-1003-4dd4-8e11-5ba8de034dc2",
   "metadata": {},
   "source": [
    "## 8 Задание\n",
    "#### Реализуйте цикл, который пробегается по уже созданному списку workers со значениями как в 2-м и 6-м заданиях и выводит для каждого сотрудника следующую строку (то есть печатает её для каждого элемента списка):\r\n",
    "##### user_name user_family is position, \n",
    "##### где user_name и user_family — имя и фамилия сотрудника, а position — одна из следующих строк:\n",
    "\n",
    "##### 'junior' — стаж меньше 2 лет\n",
    "\n",
    "##### 'middle' — стаж больше либо равен 2 и меньше или равен 5\n",
    "\n",
    "##### 'senior' — стаж строго больше 5 лет \n",
    "\n",
    " Note: в этом задании эти строки нужно печатать (используйте функцию print).\r\n"
   ]
  },
  {
   "cell_type": "code",
   "execution_count": 41,
   "id": "7735cf8f-bd03-4dfb-a88b-4a2cbfbfd6c4",
   "metadata": {},
   "outputs": [],
   "source": [
    "workers = [['Ivan', 'Ivanov', 100000, 2], ['Petr', 'Petrov', 150000, 2], ['Sidor', 'Sidorov', 200000, 3]]"
   ]
  },
  {
   "cell_type": "code",
   "execution_count": 42,
   "id": "b4f37f61-e7d8-44d9-8103-310fd5456aec",
   "metadata": {},
   "outputs": [
    {
     "name": "stdout",
     "output_type": "stream",
     "text": [
      "Ivan Ivanov is middle\n",
      "Petr Petrov is middle\n",
      "Sidor Sidorov is middle\n"
     ]
    }
   ],
   "source": [
    "for worker in workers:\n",
    "    user_name = worker[0]\n",
    "    user_family = worker[1]\n",
    "    experience = worker[3]\n",
    "\n",
    "    if experience < 2:\n",
    "        position = \"junior\"\n",
    "    elif 2 <= experience <= 5:\n",
    "        position = \"middle\"\n",
    "    else:\n",
    "        position = \"senior\"\n",
    "\n",
    "    status = (f\"{user_name} {user_family} is {position}\")\n",
    "    print(status)"
   ]
  },
  {
   "cell_type": "markdown",
   "id": "1185540e-cb55-435c-bbad-07c198aa696e",
   "metadata": {},
   "source": [
    "## 9 Задание\n",
    "\n",
    "#### Поместите в список lst числа от 0 (n = 0) до 10 включительно (N = 10) c шагом 2 (dn = 2). Для этого используйте условие while.\r\n",
    "\n",
    "Note: необходимо создать переменную lst, а переменные n, N, dn создавать не нужно. Итоговый список печатать тоже не нужно.\r\n"
   ]
  },
  {
   "cell_type": "code",
   "execution_count": 55,
   "id": "fd7763c0-40c6-43df-8360-89dcb18cb7a9",
   "metadata": {},
   "outputs": [
    {
     "name": "stdout",
     "output_type": "stream",
     "text": [
      "[0, 2, 4, 6, 8, 10]\n"
     ]
    }
   ],
   "source": [
    "lst = []\n",
    "n = 0\n",
    "while n <= 10:\n",
    "    lst.append(n)\n",
    "    n = n + 2\n",
    "print(lst) # для проверки "
   ]
  },
  {
   "cell_type": "markdown",
   "id": "96b858f6-9a40-4bb5-aff8-2ab0bffca30b",
   "metadata": {},
   "source": [
    "## 10 Задание \n",
    "\n",
    "#### На предыдущих шагах вы сталкивались с различными характеристиками пользователей, которые были сохранены в списках. Теперь попробуем собрать нужную информацию в словарь!\n",
    "#### Начнем с небольшого, где: ключом будет название характеристики, значением – её значение\n",
    "\n",
    "В словарь поместите следующую информацию: \n",
    "\n",
    " характеристика\tзначение\n",
    "\n",
    " name\tMasha\n",
    "\n",
    " surname\tVolkova\n",
    "\n",
    " age\t25\n",
    "\n",
    " salary\t60000\n",
    "\n",
    " position\tjunior\n",
    "\n",
    " Результат сохраните в переменную salaries_dict.\r\n"
   ]
  },
  {
   "cell_type": "code",
   "execution_count": 57,
   "id": "1b54d496-284f-43e0-9c8c-7a403c8ff5a5",
   "metadata": {},
   "outputs": [
    {
     "name": "stdout",
     "output_type": "stream",
     "text": [
      "{'name': 'Masha', 'surname': 'Volkova', 'age': 25, 'salary': 60000, 'position': 'junior'}\n"
     ]
    }
   ],
   "source": [
    "salaries_dict = {\n",
    "    \"name\": \"Masha\",\n",
    "    \"surname\": \"Volkova\",\n",
    "    \"age\": 25,\n",
    "    \"salary\": 60000,\n",
    "    \"position\": \"junior\"\n",
    "}\n",
    "print(salaries_dict)"
   ]
  },
  {
   "cell_type": "markdown",
   "id": "a80a44c6-c4f3-4900-b0ac-b0ccc7d2522f",
   "metadata": {},
   "source": [
    "### Теперь усложним задачу. \n",
    "##### Создайте словарь, где: Ключом будет логин пользователя (login) , в качестве значения – словарь с характеристиками (как на предыдущем шаге) для этого пользователя"
   ]
  },
  {
   "cell_type": "code",
   "execution_count": 62,
   "id": "dbb88305-7ca0-466c-8135-6b0bd944422a",
   "metadata": {},
   "outputs": [],
   "source": [
    "#В качестве значения – словарь с характеристиками (как на предыдущем шаге) для этого пользователя\n",
    "\n",
    "#login       name   surname age salary  position\n",
    "#mvolkova\tMasha\tVolkova\t25\t60000\tjunior\n",
    "#pvoronov\tPeter\tVoronov\t27\t100000\tjunior\n",
    "#pparker\tPeter\tParker\t35\t150000\tmiddle\n",
    "#akarpov    Anatoly\tKarpov\t30\t250000\tsenior"
   ]
  },
  {
   "cell_type": "markdown",
   "id": "e502e31b-373d-4bae-a3bc-3d6daaf41c60",
   "metadata": {},
   "source": [
    "##### Результат запишите в переменную users_dict."
   ]
  },
  {
   "cell_type": "code",
   "execution_count": 64,
   "id": "8c44388c-b3df-43a5-b604-54b4dbd44acf",
   "metadata": {},
   "outputs": [
    {
     "name": "stdout",
     "output_type": "stream",
     "text": [
      "{'mvolkova': {'name': 'Masha', 'surname': 'Volkova', 'age': 25, 'salary': 60000, 'position': 'junior'}, 'pvoronov': {'name': 'Peter', 'surname': 'Voronov', 'age': 27, 'salary': 100000, 'position': 'junior'}, 'pparker': {'name': 'Peter', 'surname': 'Parker', 'age': 35, 'salary': 150000, 'position': 'middle'}, 'akarpov': {'name': 'Anatoly', 'surname': 'Karpov', 'age': 30, 'salary': 250000, 'position': 'senior'}}\n"
     ]
    }
   ],
   "source": [
    "users = [\n",
    "    [\"mvolkova\", \"Masha\", \"Volkova\", 25, 60000, \"junior\"],\n",
    "    [\"pvoronov\", \"Peter\", \"Voronov\", 27, 100000, \"junior\"],\n",
    "    [\"pparker\", \"Peter\", \"Parker\", 35, 150000, \"middle\"],\n",
    "    [\"akarpov\", \"Anatoly\", \"Karpov\", 30, 250000, \"senior\"]\n",
    "]\n",
    "\n",
    "users_dict = {}\n",
    "\n",
    "for login, name, surname, age, salary, position in users:\n",
    "    users_dict[login] = {\n",
    "        \"name\": name,\n",
    "        \"surname\": surname,\n",
    "        \"age\": age,\n",
    "        \"salary\": salary,\n",
    "        \"position\": position\n",
    "    }\n",
    "print(users_dict)"
   ]
  },
  {
   "cell_type": "code",
   "execution_count": 65,
   "id": "c2041979-234b-40a3-8edd-f9c61280beeb",
   "metadata": {},
   "outputs": [
    {
     "data": {
      "text/plain": [
       "{'name': 'Masha',\n",
       " 'surname': 'Volkova',\n",
       " 'age': 25,\n",
       " 'salary': 60000,\n",
       " 'position': 'junior'}"
      ]
     },
     "execution_count": 65,
     "metadata": {},
     "output_type": "execute_result"
    }
   ],
   "source": [
    "users_dict['mvolkova']"
   ]
  },
  {
   "cell_type": "code",
   "execution_count": 66,
   "id": "ee902520-e492-462a-8038-1bf59eaa6a14",
   "metadata": {},
   "outputs": [
    {
     "data": {
      "text/plain": [
       "{'name': 'Peter',\n",
       " 'surname': 'Voronov',\n",
       " 'age': 27,\n",
       " 'salary': 100000,\n",
       " 'position': 'junior'}"
      ]
     },
     "execution_count": 66,
     "metadata": {},
     "output_type": "execute_result"
    }
   ],
   "source": [
    "users_dict['pvoronov']"
   ]
  },
  {
   "cell_type": "code",
   "execution_count": null,
   "id": "79d46421-a605-4216-bc1e-6becb26a973d",
   "metadata": {},
   "outputs": [],
   "source": []
  }
 ],
 "metadata": {
  "kernelspec": {
   "display_name": "Python 3 (ipykernel)",
   "language": "python",
   "name": "python3"
  },
  "language_info": {
   "codemirror_mode": {
    "name": "ipython",
    "version": 3
   },
   "file_extension": ".py",
   "mimetype": "text/x-python",
   "name": "python",
   "nbconvert_exporter": "python",
   "pygments_lexer": "ipython3",
   "version": "3.11.7"
  }
 },
 "nbformat": 4,
 "nbformat_minor": 5
}
