{
 "cells": [
  {
   "cell_type": "markdown",
   "id": "25d9bc89-3fea-4ea2-baff-924049af348f",
   "metadata": {},
   "source": [
    "# 3 Домашнее задание от Karpov Courses "
   ]
  },
  {
   "cell_type": "raw",
   "id": "b9858fd8-1a0f-4dda-85ad-da6e1c16692b",
   "metadata": {},
   "source": [
    "Займёмся более подробным решением аналитических задач — с эксплоративным анализом данных, созданием метрик и анализом распределений. Познакомимся с объединением датафрэймов и применением функций к колонкам датафрэйма. Освоим новые методы, посмотрим на пандасовские серии,  научимся создавать анонимные функции и начнём визуализировать данные."
   ]
  },
  {
   "cell_type": "code",
   "execution_count": 5,
   "id": "2332a389-9f71-460e-a97c-a20eeeb8dc4d",
   "metadata": {},
   "outputs": [],
   "source": [
    "import pandas as pd\n",
    "import numpy as np"
   ]
  },
  {
   "cell_type": "raw",
   "id": "c8eb1de3-4d57-4138-9b03-397ff3b24347",
   "metadata": {},
   "source": [
    "Переменная names содержит в себе строку, где хранятся имена в формате 'Name1 Surname1, Name2 Surname2, …'.\r\n",
    "Поместите в переменную names_list список со строками имён – ['Name1 Surname1', 'Name2 Surname2', …]\r\n",
    "Переменная names уже задан.\r\n"
   ]
  },
  {
   "cell_type": "code",
   "execution_count": 6,
   "id": "a74107e5-26d9-4d39-b233-365a5ae0d433",
   "metadata": {},
   "outputs": [
    {
     "name": "stdout",
     "output_type": "stream",
     "text": [
      "['Masha Volkova', 'Peter Voronov', 'Peter Parker', 'Anatoly Karpov']\n"
     ]
    }
   ],
   "source": [
    "names = \"Masha Volkova, Peter Voronov, Peter Parker, Anatoly Karpov\"\n",
    "\n",
    "# шаг 1 — разбиваем строку по запятым\n",
    "names_list = names.split(\",\")\n",
    "\n",
    "# шаг 2 — убираем пробелы вокруг имён\n",
    "names_list = [name.strip() for name in names_list]\n",
    "\n",
    "print(names_list)\n"
   ]
  },
  {
   "cell_type": "markdown",
   "id": "e4402ba8-ecba-46ed-923d-92376edf0119",
   "metadata": {},
   "source": [
    "#### В переменной df содержатся данные такого вида. \n",
    "\n",
    "Отберите из них только те, где wealth принимает значение 'medium', а возраст составляет больше 35.\r\n",
    "Поместите результат в переменную medium_35.\r\n"
   ]
  },
  {
   "cell_type": "code",
   "execution_count": 7,
   "id": "3e633af9-e80e-4524-81e9-8e758aa1bdea",
   "metadata": {},
   "outputs": [
    {
     "name": "stdout",
     "output_type": "stream",
     "text": [
      "    client_id  sex  wealth  age\n",
      "3        1739    1  medium   41\n",
      "4        4593    1  medium   69\n",
      "5        9964    0  medium   48\n",
      "14       7766    1  medium   63\n",
      "20       1364    0  medium   46\n"
     ]
    }
   ],
   "source": [
    "# Создаю пример кода для проверки\n",
    "\n",
    "df = pd.DataFrame({ \"client_id\" : np.random.randint(1, 10000, 30),\n",
    "                   \"sex\" : np.random.choice([0, 1], 30),\n",
    "                   \"wealth\" : np.random.choice([\"low\", \"medium\", \"high\"], 30),\n",
    "                   \"age\" : np.random.randint(20,70,30)})\n",
    "\n",
    "# Ранжирую\n",
    "medium_35 = df[(df[\"wealth\"] == \"medium\") & (df[\"age\"] > 35)]\n",
    "print(medium_35.head())\n"
   ]
  },
  {
   "cell_type": "markdown",
   "id": "891ce2d1-94ae-40df-a200-a68f92749334",
   "metadata": {},
   "source": [
    "#### Ваш коллега-новичок перепутал названия колонок в таблице df из предыдущих заданий и прислал вам такой вариант.\n",
    "Воспользуйтесь методом rename и приведите таблицу к более каноничному виду, сохранив её в ту же самую переменную df."
   ]
  },
  {
   "cell_type": "code",
   "execution_count": 8,
   "id": "f1709d99-4ff8-4b72-a728-4b574e817c0a",
   "metadata": {},
   "outputs": [
    {
     "name": "stdout",
     "output_type": "stream",
     "text": [
      "   client_id  sex  wealth  age\n",
      "0       9853    0    high   39\n",
      "1       9187    0     low   69\n",
      "2       6056    0     low   46\n",
      "3       1739    1  medium   41\n",
      "4       4593    1  medium   69\n"
     ]
    }
   ],
   "source": [
    "df = df.rename(columns={\n",
    "    'Клиент id': 'client_id',\n",
    "    'Пол': 'sex',\n",
    "    'Благосостояние': 'wealth',\n",
    "    'Возраст': 'age'\n",
    "})\n",
    "print(df.head())"
   ]
  },
  {
   "cell_type": "markdown",
   "id": "6b1c0ce7-816c-43d7-a8e9-d9e0461587d2",
   "metadata": {},
   "source": [
    "#### Добавьте в исследуемый нами датафрэйм df колонку older_than_30, в которой будет информация превышает ли значение переменной возраста 30 лет или нет (булево значение)"
   ]
  },
  {
   "cell_type": "code",
   "execution_count": 9,
   "id": "d63f35fe-6b17-4604-b020-2a9e4c75a3da",
   "metadata": {},
   "outputs": [
    {
     "name": "stdout",
     "output_type": "stream",
     "text": [
      "   client_id  sex  wealth  age  older_than_30\n",
      "0       9853    0    high   39           True\n",
      "1       9187    0     low   69           True\n",
      "2       6056    0     low   46           True\n",
      "3       1739    1  medium   41           True\n",
      "4       4593    1  medium   69           True\n"
     ]
    }
   ],
   "source": [
    "df[\"older_than_30\"] = df[\"age\"] > 30\n",
    "print(df.head())"
   ]
  },
  {
   "cell_type": "markdown",
   "id": "d872c189-eb18-4bdf-b628-8cdfc400955a",
   "metadata": {},
   "source": [
    "#### А теперь получите серию с числом уникальных значений для каждой колонки и присвойте её переменной unique_num."
   ]
  },
  {
   "cell_type": "code",
   "execution_count": 10,
   "id": "bad5fcd5-88e8-4264-af91-6b09c83d50b8",
   "metadata": {},
   "outputs": [
    {
     "name": "stdout",
     "output_type": "stream",
     "text": [
      "client_id        30\n",
      "sex               2\n",
      "wealth            3\n",
      "age              24\n",
      "older_than_30     2\n",
      "dtype: int64\n"
     ]
    }
   ],
   "source": [
    "unique_num = df.nunique()\n",
    "print(unique_num)"
   ]
  },
  {
   "cell_type": "markdown",
   "id": "0df226e0-9d2b-4497-9f25-097dbda3dcd3",
   "metadata": {},
   "source": [
    "#### У нас появились новые данные! Переменная data хранит в себе датафрэйм следующего вида:\n",
    "\n",
    "Проведите inner join датафрейма data с df из предыдущего шага, объединив их по колонке client_id, и поместите результат в переменную full_data (да, придумывать названия переменных иногда бывает сложно)\n",
    "\n",
    "Предыдущий датафрейм загружен в переменную df, новый – в data "
   ]
  },
  {
   "cell_type": "code",
   "execution_count": 11,
   "id": "10698265-f7c1-4aea-8804-70a9442b9a54",
   "metadata": {},
   "outputs": [
    {
     "name": "stdout",
     "output_type": "stream",
     "text": [
      "Empty DataFrame\n",
      "Columns: [client_id, sex, wealth, age, older_than_30, amount, date]\n",
      "Index: []\n"
     ]
    }
   ],
   "source": [
    "data = pd.DataFrame({\n",
    "    'client_id': [5392, 9581, 7250, 8619, 6573],\n",
    "    'amount': [42331, 88420, 1714, 80572, 57549],\n",
    "    'date': [1585425830, 1585429536, 1585427761, 1585427077, 1585426290]\n",
    "})\n",
    "\n",
    "full_data = df.merge(data, on='client_id', how='inner')\n",
    "\n",
    "print(full_data.head())"
   ]
  },
  {
   "cell_type": "markdown",
   "id": "26f45d7c-a91e-4b71-baf0-9c7ccf36ee9f",
   "metadata": {},
   "source": [
    "## 💀 Сложное задание! 💀"
   ]
  },
  {
   "cell_type": "raw",
   "id": "e26c0585-1370-4cbc-9f6a-bbe05327b662",
   "metadata": {},
   "source": [
    "Теперь давайте создадим собственную функцию. Напишите функцию read_n_agg, которая:\n",
    "1.\tпринимает на вход один параметр – путь к файлу\n",
    "2.\tпри помощи переданного пути, считывает файл, в котором разделителем является ;\n",
    "3.\tсчитает средний заработок (income) по каждой компании (company), перенося колонку company в индекс (as_index=True)\n",
    "4.\tвозвращает результат этих действий (агрегированный датафрэйм)"
   ]
  },
  {
   "cell_type": "markdown",
   "id": "c7cc90bb-30f1-46ae-b6b2-9bc9154466ba",
   "metadata": {},
   "source": [
    "P.S. Небольшое уточнение – менять что-то в данных или переименовывать колонки не нужно.\r\n",
    "P.P.S. В задании надо указать только функцию, указывать конкретный путь к файлу не нужно. Он будет содержаться в аргументе функции внутри системы LMS!\r\n"
   ]
  },
  {
   "cell_type": "code",
   "execution_count": 18,
   "id": "3f922cac-7757-4fbe-8d2a-62d48ebac0a9",
   "metadata": {},
   "outputs": [],
   "source": [
    "def read_n_agg(path):\n",
    "    data = pd.read_csv(path, sep=\";\")\n",
    "    mean_inc = data.groupby(\"company\").agg({\"income\": \"mean\"})\n",
    "    return mean_inc\n"
   ]
  },
  {
   "cell_type": "code",
   "execution_count": 19,
   "id": "75bb6e12-cc0b-4141-b469-a1d4acfa0887",
   "metadata": {},
   "outputs": [],
   "source": [
    "path = \"3_companies.csv\""
   ]
  },
  {
   "cell_type": "code",
   "execution_count": null,
   "id": "a5923548-42f1-49bc-b0e5-7d3da0a0494c",
   "metadata": {},
   "outputs": [],
   "source": [
    "mean_income = read_n_agg(path)"
   ]
  },
  {
   "cell_type": "code",
   "execution_count": null,
   "id": "44566d86-731a-4e85-a729-e3b7e43a0f1f",
   "metadata": {},
   "outputs": [],
   "source": [
    "mean_income.head()"
   ]
  },
  {
   "cell_type": "markdown",
   "id": "da292237-1b7a-4805-906f-81d4ad932ccc",
   "metadata": {},
   "source": [
    "#### Вернемся к данным по поездкам на такси. \n",
    "\n",
    "На этот раз – из Перу, с рейтингами водителей, пассажиров, координатами, и парой других деталей. "
   ]
  },
  {
   "cell_type": "raw",
   "id": "1932a8c7-4f0b-4b1b-ada1-9ca72bdbea21",
   "metadata": {},
   "source": [
    "•\tjourney_id – уникальный id поездки\n",
    "•\tuser_id – id пользователя\n",
    "•\tdriver_id – id водителя\n",
    "•\ttaxi_id – id машины\n",
    "•\ticon – тип поездки\n",
    "•\tstart_type – тип заказа (asap, reserved, delayed)\n",
    "•\tstart_at – время начала поездки\n",
    "•\tstart_lat – исходное местоположение пользователя, широта\n",
    "•\tstart_lon – исходное местоположение пользователя, долгота\n",
    "•\tend_at – время окончания поездки\n",
    "•\tend_lat – итоговое местоположение, широта\n",
    "•\tend_lon – итоговое местоположение, долгота\n",
    "•\tend_state – состояние заказа\n",
    "•\tdriver_start_lat – исходное местоположение водителя, широта\n",
    "•\tdriver_start_lon – исходное местоположение водителя, долгота\n",
    "•\tarrived_at – время прибытия водителя\n",
    "•\tsource – платформа, с которой сделан заказ\n",
    "•\tdriver_score – оценка водителя клиентом\n",
    "•\trider_score – оценка клиента водителем\n"
   ]
  },
  {
   "cell_type": "markdown",
   "id": "d06329ec-9b79-4817-bbf4-165a254457bb",
   "metadata": {},
   "source": [
    "Импортируйте pandas как pd. В данном задании ссылка на датасет находится в переменной path_to_file. \r\n",
    "Загрузите датасет, используя ; в качестве разделителя. \r\n",
    "Также укажите, что столбцы start_at, end_at, arrived_at нужно прочитать как даты (параметр parse_dates).\r\n",
    "Результат запишите в переменную taxi.\r\n"
   ]
  },
  {
   "cell_type": "code",
   "execution_count": null,
   "id": "e1d8a98a-cd89-4d5a-97d3-1112369aadfa",
   "metadata": {},
   "outputs": [],
   "source": [
    "import pandas as pd"
   ]
  },
  {
   "cell_type": "code",
   "execution_count": null,
   "id": "996f906c-d14b-4847-8fcf-9f740830c3cd",
   "metadata": {},
   "outputs": [],
   "source": [
    "taxi = pd.read_csv(\"3_taxi_peru.csv\",  sep=';' , parse_dates=['start_at', 'end_at', 'arrived_at'])"
   ]
  },
  {
   "cell_type": "markdown",
   "id": "e9020fb8-5e2c-446c-8128-12bede8aa883",
   "metadata": {},
   "source": [
    "#### Проверьте, с какой платформы было сделано больше всего заказов. \n",
    "\n",
    "В ответе укажите значение в %, округлённое до целого."
   ]
  },
  {
   "cell_type": "code",
   "execution_count": null,
   "id": "e9c42c4e-0f37-4bcd-a667-895764dd1ec9",
   "metadata": {},
   "outputs": [],
   "source": [
    "print(taxi.columns)"
   ]
  },
  {
   "cell_type": "code",
   "execution_count": null,
   "id": "55d6f199-5c3c-47a4-98d2-3ca84934e80a",
   "metadata": {},
   "outputs": [],
   "source": [
    "# Считаем количество заказов по типу старта (platform)\n",
    "counts = taxi['start_type'].value_counts()\n",
    "\n",
    "# Находим самый популярный тип\n",
    "most_popular_platform = counts.idxmax()\n",
    "\n",
    "# Считаем процент заказов для этого типа и округляем\n",
    "most_popular_percent = round(counts.max() / counts.sum() * 100)\n",
    "\n",
    "print(most_popular_platform, most_popular_percent, '%')\n"
   ]
  },
  {
   "cell_type": "markdown",
   "id": "b1c343fa-5d5b-4d4c-89f9-924e520c7115",
   "metadata": {},
   "source": [
    "#### Чтобы показать разницу более наглядно, попробуем визуализировать показатели.\n",
    "\n",
    "Агрегируйте данные и постройте барчарт, где по оси x будет расположено название платформы (source), а по оси y – количество заказов (абсолютные значения).\r\n",
    "Какой график получился?\r\n"
   ]
  },
  {
   "cell_type": "code",
   "execution_count": 2,
   "id": "3e4ded95-1473-4077-921f-ebddf0acde77",
   "metadata": {},
   "outputs": [
    {
     "data": {
      "image/png": "[encoded data removed]",
      "text/plain": [
       "<Figure size 600x400 with 1 Axes>"
      ]
     },
     "metadata": {},
     "output_type": "display_data"
    }
   ],
   "source": [
    "import pandas as pd\n",
    "import matplotlib.pyplot as plt\n",
    "\n",
    "# Загружаю файл \n",
    "taxi = pd.read_csv(\n",
    "    \"3_taxi_peru.csv\",\n",
    "    sep=';',  # разделитель\n",
    "    parse_dates=['start_at', 'end_at', 'arrived_at']  # читаем даты\n",
    "    )\n",
    "\n",
    "# Считаю количество заказов по каждой платформе (source)\n",
    "orders_by_source = taxi['source'].value_counts()\n",
    "\n",
    "# Строю барчарт\n",
    "orders_by_source.plot(kind='bar', color='skyblue', figsize=(6,4))\n",
    "\n",
    "# Добавляю подписи\n",
    "plt.title('Количество заказов по платформам')\n",
    "plt.xlabel('Платформа (source)')\n",
    "plt.ylabel('Количество заказов')\n",
    "plt.grid(axis='y', linestyle='--', alpha=0.7)\n",
    "\n",
    "plt.show()"
   ]
  },
  {
   "cell_type": "markdown",
   "id": "ec6da64a-850c-4312-9c47-e42074e1d5cb",
   "metadata": {},
   "source": [
    "#### Альтернативный вариант построения распределения категориальной переменной – sns.countplot. \n",
    "\n",
    "В качестве единственного аргумента можно передать всего одну колонку: например, source, а количество значений для оси y функция посчитает самостоятельно.\r\n",
    "sns.countplot(taxi['source'])\r\n",
    "Используйте данный тип графика и проверьте, какой тип поездки (icon) встречался чаще всег.\r\n"
   ]
  },
  {
   "cell_type": "code",
   "execution_count": 29,
   "id": "31d59429-8455-41d2-a9f9-05235c541f57",
   "metadata": {},
   "outputs": [
    {
     "data": {
      "image/png": "[encoded data removed]",
      "text/plain": [
       "<Figure size 640x480 with 1 Axes>"
      ]
     },
     "metadata": {},
     "output_type": "display_data"
    }
   ],
   "source": [
    "import seaborn as sns\n",
    "import matplotlib.pyplot as plt\n",
    "\n",
    "# Строю график распределения по типу поездки (icon)\n",
    "sns.countplot(x=taxi['icon'], palette='pastel')\n",
    "\n",
    "# Добавил подписи и заголовок\n",
    "plt.title('Распределение типов поездок (icon)')\n",
    "plt.xlabel('Тип поездки')\n",
    "plt.ylabel('Количество заказов')\n",
    "\n",
    "plt.show()"
   ]
  },
  {
   "cell_type": "markdown",
   "id": "cc92a810-7423-4f5f-af2f-124f0723cbed",
   "metadata": {},
   "source": [
    "#### Теперь попробуем построить более сложный график!\n",
    "\n",
    "С помощью sns.countplot и параметра hue визуализируйте распределение переменной end_state (итоговое состояние заказа) в разбивке по платформам (source).\r\n",
    "Иными словами, по оси x расположите платформу, а в качестве цвета используйте состояние заказа. Далее выберите верные утверждения.\r\n"
   ]
  },
  {
   "cell_type": "code",
   "execution_count": 30,
   "id": "d8997022-c3e7-48af-8fa3-0cecaf241272",
   "metadata": {},
   "outputs": [
    {
     "data": {
      "image/png": "[encoded data removed]",
      "text/plain": [
       "<Figure size 640x480 with 1 Axes>"
      ]
     },
     "metadata": {},
     "output_type": "display_data"
    }
   ],
   "source": [
    "import seaborn as sns\n",
    "import matplotlib.pyplot as plt\n",
    "\n",
    "# Строю распределение в разрезе платформ (source)\n",
    "sns.countplot(\n",
    "    x='source',          # ось X — платформа\n",
    "    hue='end_state',     # цвет — состояние заказа\n",
    "    data=taxi,           # данные\n",
    "    palette='pastel'     # приятная цветовая палитра\n",
    ")\n",
    "\n",
    "# Добавил подписи\n",
    "plt.title('Распределение состояний заказов (end_state) по платформам (source)')\n",
    "plt.xlabel('Платформа')\n",
    "plt.ylabel('Количество заказов')\n",
    "plt.legend(title='Состояние заказа', loc='upper right')\n",
    "plt.grid(axis='y', linestyle='--', alpha=0.6)\n",
    "\n",
    "plt.show()"
   ]
  },
  {
   "cell_type": "markdown",
   "id": "45159c51-549f-43a8-8211-bf54de4b538b",
   "metadata": {},
   "source": [
    "#### Проверим, как распределены оценки водителей (driver_score).\n"
   ]
  },
  {
   "cell_type": "raw",
   "id": "454b38ae-0d70-4f41-990a-b392e5075017",
   "metadata": {},
   "source": [
    "Для подготовки данных выполните следующие шаги:\n",
    "1.\tПосчитайте частоту встречаемости каждой из оценок\n",
    "2.\tПереведите в проценты и округлите до 2 знаков после точки (.mul(100).round(2))\n",
    "3.\tСбросьте индексы\n",
    "4.\tПереименуйте колонки в driver_score и percentage\n",
    "5.\tОтсортируйте по driver_score в порядке возрастания (от 0 до 5)\n",
    "6.\tЗапишите результат в driver_score_counts\n",
    " \n",
    "Полезные функции:\n",
    "•\t.mul() – умножение, более удобный вариант для использования в цепочке методов \n",
    "•\t.round() – округление\n",
    "•\t.reset_index() – сбросить индекс\n",
    "•\t.value_counts() – сколько раз встречается каждое значение переменной"
   ]
  },
  {
   "cell_type": "code",
   "execution_count": 5,
   "id": "029215c2-4679-4aa7-b7b1-8f2dd5def796",
   "metadata": {},
   "outputs": [
    {
     "data": {
      "text/html": [
       "<div>\n",
       "<style scoped>\n",
       "    .dataframe tbody tr th:only-of-type {\n",
       "        vertical-align: middle;\n",
       "    }\n",
       "\n",
       "    .dataframe tbody tr th {\n",
       "        vertical-align: top;\n",
       "    }\n",
       "\n",
       "    .dataframe thead th {\n",
       "        text-align: right;\n",
       "    }\n",
       "</style>\n",
       "<table border=\"1\" class=\"dataframe\">\n",
       "  <thead>\n",
       "    <tr style=\"text-align: right;\">\n",
       "      <th></th>\n",
       "      <th>driver_score</th>\n",
       "      <th>percentage</th>\n",
       "    </tr>\n",
       "  </thead>\n",
       "  <tbody>\n",
       "    <tr>\n",
       "      <th>2</th>\n",
       "      <td>0.0</td>\n",
       "      <td>14.30</td>\n",
       "    </tr>\n",
       "    <tr>\n",
       "      <th>4</th>\n",
       "      <td>1.0</td>\n",
       "      <td>1.23</td>\n",
       "    </tr>\n",
       "    <tr>\n",
       "      <th>5</th>\n",
       "      <td>2.0</td>\n",
       "      <td>0.81</td>\n",
       "    </tr>\n",
       "    <tr>\n",
       "      <th>3</th>\n",
       "      <td>3.0</td>\n",
       "      <td>2.97</td>\n",
       "    </tr>\n",
       "    <tr>\n",
       "      <th>1</th>\n",
       "      <td>4.0</td>\n",
       "      <td>21.88</td>\n",
       "    </tr>\n",
       "    <tr>\n",
       "      <th>0</th>\n",
       "      <td>5.0</td>\n",
       "      <td>58.81</td>\n",
       "    </tr>\n",
       "  </tbody>\n",
       "</table>\n",
       "</div>"
      ],
      "text/plain": [
       "   driver_score  percentage\n",
       "2           0.0       14.30\n",
       "4           1.0        1.23\n",
       "5           2.0        0.81\n",
       "3           3.0        2.97\n",
       "1           4.0       21.88\n",
       "0           5.0       58.81"
      ]
     },
     "execution_count": 5,
     "metadata": {},
     "output_type": "execute_result"
    }
   ],
   "source": [
    "driver_score_counts = (\n",
    "    taxi['driver_score']\n",
    "    .value_counts(normalize=True)\n",
    "    .mul(100)\n",
    "    .round(2)\n",
    "    .reset_index()\n",
    "    .rename(columns={'proportion': 'percentage'})\n",
    "    .sort_values(by='driver_score')\n",
    ")\n",
    "\n",
    "driver_score_counts"
   ]
  },
  {
   "cell_type": "markdown",
   "id": "07fa92ef-92eb-4faa-a05b-4f47feae4b5d",
   "metadata": {},
   "source": [
    "#### Теперь строим график! "
   ]
  },
  {
   "cell_type": "raw",
   "id": "df6144f3-7d9c-48ac-9316-cc8648887624",
   "metadata": {},
   "source": [
    "import seaborn as sns\n",
    "import matplotlib.pyplot as plt\n",
    "\n",
    "Укажите, какую из четырех строчек в нижепредставленном коде нужно исправить, чтобы получить следующий график:\n",
    "\n",
    "ax = sns.barplot(x=driver_score, y=percentage, data=driver_score_counts, color='blue', alpha=0.5)\n",
    "ax.set(xlabel='Driver score', ylabel='Percentage')\n",
    "sns.despine()  # убрать часть рамки графика\n",
    "plt.show()"
   ]
  },
  {
   "cell_type": "code",
   "execution_count": 7,
   "id": "9dbb524d-48e1-46fe-9abe-55b4ffe57756",
   "metadata": {},
   "outputs": [
    {
     "data": {
      "image/png": "[encoded data removed]",
      "text/plain": [
       "<Figure size 640x480 with 1 Axes>"
      ]
     },
     "metadata": {},
     "output_type": "display_data"
    }
   ],
   "source": [
    "import seaborn as sns\n",
    "import matplotlib.pyplot as plt\n",
    "\n",
    "ax = sns.barplot(x='driver_score', y='percentage', data=driver_score_counts, color='blue', alpha=0.5)\n",
    "ax.set(xlabel='Driver score', ylabel='Percentage')\n",
    "sns.despine()\n",
    "plt.show()"
   ]
  },
  {
   "cell_type": "markdown",
   "id": "ab07e4d1-210d-4a5e-a023-6016311dbd53",
   "metadata": {},
   "source": [
    "#### 💀 Сложное задание! 💀"
   ]
  },
  {
   "cell_type": "markdown",
   "id": "bd81d0ac-5d4b-404a-be9a-85bc7df70dcf",
   "metadata": {},
   "source": [
    "Проделайте аналогичные шаги для rider_score (оценок клиентов водителями), не забыв построить график.\n",
    "\n",
    "В чем его отличие от распределения оценок водителей?"
   ]
  },
  {
   "cell_type": "code",
   "execution_count": 12,
   "id": "dccff517-643f-4765-b222-a8f4dbfc98b3",
   "metadata": {},
   "outputs": [
    {
     "data": {
      "text/html": [
       "<div>\n",
       "<style scoped>\n",
       "    .dataframe tbody tr th:only-of-type {\n",
       "        vertical-align: middle;\n",
       "    }\n",
       "\n",
       "    .dataframe tbody tr th {\n",
       "        vertical-align: top;\n",
       "    }\n",
       "\n",
       "    .dataframe thead th {\n",
       "        text-align: right;\n",
       "    }\n",
       "</style>\n",
       "<table border=\"1\" class=\"dataframe\">\n",
       "  <thead>\n",
       "    <tr style=\"text-align: right;\">\n",
       "      <th></th>\n",
       "      <th>rider_score</th>\n",
       "      <th>percentage</th>\n",
       "    </tr>\n",
       "  </thead>\n",
       "  <tbody>\n",
       "    <tr>\n",
       "      <th>2</th>\n",
       "      <td>0.0</td>\n",
       "      <td>2.29</td>\n",
       "    </tr>\n",
       "    <tr>\n",
       "      <th>4</th>\n",
       "      <td>1.0</td>\n",
       "      <td>0.21</td>\n",
       "    </tr>\n",
       "    <tr>\n",
       "      <th>5</th>\n",
       "      <td>2.0</td>\n",
       "      <td>0.19</td>\n",
       "    </tr>\n",
       "    <tr>\n",
       "      <th>3</th>\n",
       "      <td>3.0</td>\n",
       "      <td>1.38</td>\n",
       "    </tr>\n",
       "    <tr>\n",
       "      <th>1</th>\n",
       "      <td>4.0</td>\n",
       "      <td>8.83</td>\n",
       "    </tr>\n",
       "    <tr>\n",
       "      <th>0</th>\n",
       "      <td>5.0</td>\n",
       "      <td>87.10</td>\n",
       "    </tr>\n",
       "  </tbody>\n",
       "</table>\n",
       "</div>"
      ],
      "text/plain": [
       "   rider_score  percentage\n",
       "2          0.0        2.29\n",
       "4          1.0        0.21\n",
       "5          2.0        0.19\n",
       "3          3.0        1.38\n",
       "1          4.0        8.83\n",
       "0          5.0       87.10"
      ]
     },
     "execution_count": 12,
     "metadata": {},
     "output_type": "execute_result"
    }
   ],
   "source": [
    "rider_score_counts = (\n",
    "    taxi['rider_score']\n",
    "    .value_counts(normalize=True)\n",
    "    .mul(100)\n",
    "    .round(2)\n",
    "    .reset_index()\n",
    ")\n",
    "rider_score_counts.columns = ['rider_score', 'percentage']  # <-- вручную переименовываем\n",
    "rider_score_counts = rider_score_counts.sort_values(by='rider_score')\n",
    "rider_score_counts"
   ]
  },
  {
   "cell_type": "code",
   "execution_count": 13,
   "id": "e2a3ceb5-ba3a-4698-96f2-817e90c66495",
   "metadata": {},
   "outputs": [
    {
     "data": {
      "image/png": "[encoded data removed]",
      "text/plain": [
       "<Figure size 640x480 with 1 Axes>"
      ]
     },
     "metadata": {},
     "output_type": "display_data"
    }
   ],
   "source": [
    "import seaborn as sns\n",
    "import matplotlib.pyplot as plt\n",
    "\n",
    "ax = sns.barplot(\n",
    "    x='rider_score',\n",
    "    y='percentage',\n",
    "    data=rider_score_counts,\n",
    "    color='orange',\n",
    "    alpha=0.6\n",
    ")\n",
    "\n",
    "ax.set(xlabel='Rider score', ylabel='Percentage', title='Распределение оценок клиентов (rider_score)')\n",
    "sns.despine()\n",
    "plt.show()"
   ]
  },
  {
   "cell_type": "code",
   "execution_count": null,
   "id": "bb1b604c-1b6a-43d3-83fa-bedd6a6e51f7",
   "metadata": {},
   "outputs": [],
   "source": []
  }
 ],
 "metadata": {
  "kernelspec": {
   "display_name": "Python 3 (ipykernel)",
   "language": "python",
   "name": "python3"
  },
  "language_info": {
   "codemirror_mode": {
    "name": "ipython",
    "version": 3
   },
   "file_extension": ".py",
   "mimetype": "text/x-python",
   "name": "python",
   "nbconvert_exporter": "python",
   "pygments_lexer": "ipython3",
   "version": "3.11.7"
  }
 },
 "nbformat": 4,
 "nbformat_minor": 5
}
